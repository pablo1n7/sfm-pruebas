{
 "cells": [
  {
   "cell_type": "code",
   "execution_count": 28,
   "metadata": {
    "collapsed": false
   },
   "outputs": [],
   "source": [
    "import reconstruccion3D as r3D\n",
    "import numpy as np\n",
    "import matplotlib.pyplot as plot\n",
    "import cv2"
   ]
  },
  {
   "cell_type": "code",
   "execution_count": null,
   "metadata": {
    "collapsed": false
   },
   "outputs": [],
   "source": [
    "%matplotlib inline"
   ]
  },
  {
   "cell_type": "code",
   "execution_count": 29,
   "metadata": {
    "collapsed": false
   },
   "outputs": [],
   "source": [
    "ruta = \"img/monumento/\"\n",
    "K = np.array([[2759.48/4, 0, 1520.69/4, 0, 2764.16/4,1006.81/4, 0, 0, 1]]).reshape(3, 3)\n",
    "d = np.array([0.0, 0.0, 0.0, 0.0, 0.0]).reshape(1, 5)\n",
    "a = r3D.Rescontruccion3D(ruta,K,d)"
   ]
  },
  {
   "cell_type": "code",
   "execution_count": 30,
   "metadata": {
    "collapsed": false
   },
   "outputs": [],
   "source": [
    "a.inicializacion()"
   ]
  },
  {
   "cell_type": "code",
   "execution_count": 31,
   "metadata": {
    "collapsed": false
   },
   "outputs": [],
   "source": [
    "a.salvar_nube(\"monumento.pcd\")"
   ]
  },
  {
   "cell_type": "code",
   "execution_count": 32,
   "metadata": {
    "collapsed": false
   },
   "outputs": [],
   "source": [
    "a.graficar_nube()"
   ]
  },
  {
   "cell_type": "code",
   "execution_count": 33,
   "metadata": {
    "collapsed": false
   },
   "outputs": [],
   "source": [
    "vista_uno = a.vistas[0]\n",
    "vista_dos = a.vistas[2]\n",
    "vista_uno.buscar_feature(vista_dos,a.matcher)"
   ]
  },
  {
   "cell_type": "code",
   "execution_count": 34,
   "metadata": {
    "collapsed": false
   },
   "outputs": [],
   "source": [
    "#incorporando otras vistas.\n",
    "new_feature = vista_uno.features[vista_dos]\n",
    "old_feature = vista_uno.features[a.vistas[1]]"
   ]
  },
  {
   "cell_type": "code",
   "execution_count": 35,
   "metadata": {
    "collapsed": false
   },
   "outputs": [],
   "source": [
    "match_utilizados =[]\n",
    "j = 0\n",
    "for i in range(a.FMask.shape[0]):\n",
    "    if a.FMask[i]:\n",
    "        punto3D = a.pts3D[j]\n",
    "        match_utilizados.append((old_feature.matches[i],punto3D))\n",
    "        j = j+1"
   ]
  },
  {
   "cell_type": "code",
   "execution_count": 36,
   "metadata": {
    "collapsed": false
   },
   "outputs": [],
   "source": [
    "match_c = []\n",
    "puntos_3D = []\n",
    "for old_match,punto3D in match_utilizados:\n",
    "    for new_match in new_feature.matches:\n",
    "        if new_match.queryIdx == old_match.queryIdx:\n",
    "            match_c.append(old_match)\n",
    "            puntos_3D.append(punto3D)"
   ]
  },
  {
   "cell_type": "code",
   "execution_count": 37,
   "metadata": {
    "collapsed": false
   },
   "outputs": [
    {
     "data": {
      "text/plain": [
       "143"
      ]
     },
     "execution_count": 37,
     "metadata": {},
     "output_type": "execute_result"
    }
   ],
   "source": [
    "match_c.__len__()\n",
    "puntos_3D.__len__()"
   ]
  },
  {
   "cell_type": "code",
   "execution_count": 38,
   "metadata": {
    "collapsed": false
   },
   "outputs": [],
   "source": [
    "puntos_2D = []\n",
    "for new_match in match_c:\n",
    "    #print new_feature.puntos_dos[new_match.trainIdx].pt\n",
    "    puntos_2D.append(new_feature.puntos_dos[new_match.trainIdx].pt)"
   ]
  },
  {
   "cell_type": "code",
   "execution_count": 39,
   "metadata": {
    "collapsed": false
   },
   "outputs": [],
   "source": [
    "retval,mask=cv2.findFundamentalMat(new_feature.match_puntos_uno,new_feature.match_puntos_dos,cv2.FM_RANSAC, 0.1, 0.99)"
   ]
  },
  {
   "cell_type": "code",
   "execution_count": 54,
   "metadata": {
    "collapsed": false
   },
   "outputs": [],
   "source": [
    "puntos_2D = np.array(puntos_2D)\n",
    "puntos_3D = np.array(puntos_3D)\n",
    "rvec,t,p = cv2.solvePnP(puntos_3D, puntos_2D, a.K,None)\n",
    "R,j = cv2.Rodrigues(t,a.R)\n",
    "P3 = np.hstack((R, a.t.reshape(3, 1)))\n",
    "ptsH1,ptsH2 = new_feature.homogeneizar_puntos(a.K,mask)\n",
    "X = a.triangular(ptsH1,ptsH2,P3)"
   ]
  },
  {
   "cell_type": "code",
   "execution_count": null,
   "metadata": {
    "collapsed": false
   },
   "outputs": [],
   "source": []
  },
  {
   "cell_type": "code",
   "execution_count": 56,
   "metadata": {
    "collapsed": false
   },
   "outputs": [
    {
     "data": {
      "text/plain": [
       "(279, 3)"
      ]
     },
     "execution_count": 56,
     "metadata": {},
     "output_type": "execute_result"
    }
   ],
   "source": [
    "r = np.concatenate((X,a.pts3D))\n",
    "r.shape\n",
    "a.pts3D = r \n",
    "a.pts3D.shape"
   ]
  },
  {
   "cell_type": "code",
   "execution_count": null,
   "metadata": {
    "collapsed": true
   },
   "outputs": [],
   "source": [
    "a.graficar_nube()"
   ]
  }
 ],
 "metadata": {
  "kernelspec": {
   "display_name": "Python 2",
   "language": "python",
   "name": "python2"
  },
  "language_info": {
   "codemirror_mode": {
    "name": "ipython",
    "version": 2
   },
   "file_extension": ".py",
   "mimetype": "text/x-python",
   "name": "python",
   "nbconvert_exporter": "python",
   "pygments_lexer": "ipython2",
   "version": "2.7.11"
  }
 },
 "nbformat": 4,
 "nbformat_minor": 0
}
