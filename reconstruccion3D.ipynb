{
 "cells": [
  {
   "cell_type": "code",
   "execution_count": 7,
   "metadata": {
    "collapsed": false
   },
   "outputs": [],
   "source": [
    "import reconstruccion3D as r3D\n",
    "import numpy as np\n",
    "import matplotlib.pyplot as plot\n",
    "import cv2\n",
    "import pcl\n",
    "#import sba"
   ]
  },
  {
   "cell_type": "code",
   "execution_count": null,
   "metadata": {
    "collapsed": false
   },
   "outputs": [],
   "source": [
    "%matplotlib inline"
   ]
  },
  {
   "cell_type": "code",
   "execution_count": 8,
   "metadata": {
    "collapsed": false
   },
   "outputs": [],
   "source": [
    "ruta = \"img/monumento/\"\n",
    "K = np.array([[2759.48/4, 0, 1520.69/4, 0, 2764.16/4,1006.81/4, 0, 0, 1]]).reshape(3, 3)\n",
    "d = np.array([0.0, 0.0, 0.0, 0.0, 0.0]).reshape(1, 5)\n",
    "a = r3D.Rescontruccion3D(ruta,K,d)"
   ]
  },
  {
   "cell_type": "code",
   "execution_count": 9,
   "metadata": {
    "collapsed": false
   },
   "outputs": [],
   "source": [
    "a.inicializacion()\n",
    "\n",
    "#Con esta linea se le puede decir con que imagenes realizar la primera reconstruccion\n",
    "#a.pts3D = a.construir_vista3D(0,1) "
   ]
  },
  {
   "cell_type": "code",
   "execution_count": 10,
   "metadata": {
    "collapsed": false
   },
   "outputs": [
    {
     "data": {
      "text/plain": [
       "<PointCloud of 393 points>"
      ]
     },
     "execution_count": 10,
     "metadata": {},
     "output_type": "execute_result"
    }
   ],
   "source": [
    "a.salvar_nube(\"monumento.pcd\")"
   ]
  },
  {
   "cell_type": "code",
   "execution_count": 11,
   "metadata": {
    "collapsed": false
   },
   "outputs": [],
   "source": [
    "a.graficar_nube()"
   ]
  },
  {
   "cell_type": "code",
   "execution_count": null,
   "metadata": {
    "collapsed": false
   },
   "outputs": [],
   "source": []
  },
  {
   "cell_type": "markdown",
   "metadata": {
    "collapsed": false
   },
   "source": [
    "Incorporando Otras Vistas"
   ]
  },
  {
   "cell_type": "code",
   "execution_count": 12,
   "metadata": {
    "collapsed": false
   },
   "outputs": [],
   "source": [
    "vista_uno = a.vistas[0]\n",
    "vista_dos = a.vistas[2]\n",
    "vista_uno.buscar_feature(vista_dos,a.matcher)"
   ]
  },
  {
   "cell_type": "code",
   "execution_count": 13,
   "metadata": {
    "collapsed": false
   },
   "outputs": [],
   "source": [
    "#incorporando otras vistas.\n",
    "new_feature = vista_uno.features[vista_dos]\n",
    "old_feature = vista_uno.features[a.vistas[1]]"
   ]
  },
  {
   "cell_type": "code",
   "execution_count": 14,
   "metadata": {
    "collapsed": false
   },
   "outputs": [],
   "source": [
    "#Correspondiendo los puntos 2D con los 3D\n",
    "match_utilizados =[]\n",
    "j = 0\n",
    "for i in range(a.FMask.shape[0]):\n",
    "    if a.FMask[i]:\n",
    "        punto3D = a.pts3D[j]\n",
    "        match_utilizados.append((old_feature.matches[i],punto3D))\n",
    "        j = j+1"
   ]
  },
  {
   "cell_type": "code",
   "execution_count": 15,
   "metadata": {
    "collapsed": false
   },
   "outputs": [],
   "source": [
    "#Determinando los features que se repiten en ambas imagenes.\n",
    "match_c = []\n",
    "puntos_3D = []\n",
    "for old_match,punto3D in match_utilizados:\n",
    "    for new_match in new_feature.matches:\n",
    "        if new_match.queryIdx == old_match.queryIdx:\n",
    "            match_c.append(old_match)\n",
    "            puntos_3D.append(punto3D)"
   ]
  },
  {
   "cell_type": "code",
   "execution_count": 16,
   "metadata": {
    "collapsed": false
   },
   "outputs": [],
   "source": [
    "puntos_2D = []\n",
    "for new_match in match_c:\n",
    "    puntos_2D.append(new_feature.puntos_dos[new_match.trainIdx].pt)"
   ]
  },
  {
   "cell_type": "code",
   "execution_count": 17,
   "metadata": {
    "collapsed": false
   },
   "outputs": [],
   "source": [
    "retval,mask=cv2.findFundamentalMat(new_feature.match_puntos_uno,new_feature.match_puntos_dos,cv2.FM_RANSAC, 0.1, 0.99)"
   ]
  },
  {
   "cell_type": "code",
   "execution_count": 18,
   "metadata": {
    "collapsed": false
   },
   "outputs": [],
   "source": [
    "puntos_2D = np.array(puntos_2D)\n",
    "puntos_3D = np.array(puntos_3D)\n",
    "rvec,t,p = cv2.solvePnP(puntos_3D, puntos_2D, a.K,a.d)\n",
    "R,j = cv2.Rodrigues(t,a.R)\n",
    "P3 = np.hstack((R, a.t.reshape(3, 1)))\n",
    "ptsH1,ptsH2,nuevo_matches = new_feature.homogeneizar_puntos(a.K,mask)\n",
    "X = a.triangular(ptsH1,ptsH2,P3)"
   ]
  },
  {
   "cell_type": "code",
   "execution_count": 19,
   "metadata": {
    "collapsed": false
   },
   "outputs": [],
   "source": [
    "r = np.concatenate((X,a.pts3D))\n",
    "r.shape\n",
    "a.pts3D = r \n",
    "#aux = np.concatenate((aux,a.pts3D))"
   ]
  },
  {
   "cell_type": "code",
   "execution_count": 20,
   "metadata": {
    "collapsed": false
   },
   "outputs": [],
   "source": [
    "a.graficar_nube()"
   ]
  }
 ],
 "metadata": {
  "kernelspec": {
   "display_name": "Python 2",
   "language": "python",
   "name": "python2"
  },
  "language_info": {
   "codemirror_mode": {
    "name": "ipython",
    "version": 2
   },
   "file_extension": ".py",
   "mimetype": "text/x-python",
   "name": "python",
   "nbconvert_exporter": "python",
   "pygments_lexer": "ipython2",
   "version": "2.7.11"
  }
 },
 "nbformat": 4,
 "nbformat_minor": 0
}
