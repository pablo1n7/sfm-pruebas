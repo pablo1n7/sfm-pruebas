{
 "cells": [
  {
   "cell_type": "code",
   "execution_count": 9,
   "metadata": {
    "collapsed": true
   },
   "outputs": [],
   "source": [
    "import cv2\n",
    "import matplotlib.pyplot as plot\n",
    "from skimage.feature import (match_descriptors,corner_harris,corner_peaks,ORB,plot_matches,BRIEF)\n",
    "import os\n",
    "import numpy as np\n",
    "from mpl_toolkits.mplot3d import Axes3D"
   ]
  },
  {
   "cell_type": "code",
   "execution_count": 169,
   "metadata": {
    "collapsed": false
   },
   "outputs": [],
   "source": [
    "%matplotlib inline"
   ]
  },
  {
   "cell_type": "code",
   "execution_count": 170,
   "metadata": {
    "collapsed": false
   },
   "outputs": [],
   "source": [
    "#matriz camara\n",
    "# -----------------------------------------------------------------------> \n",
    "K = np.array([[2759.48/4, 0, 1520.69/4, 0, 2764.16/4,1006.81/4, 0, 0, 1]]).reshape(3, 3)\n",
    "d = np.array([0.0, 0.0, 0.0, 0.0, 0.0]).reshape(1, 5)\n",
    "# ----------------------------------------------------------------------->\n",
    "#K = np.array([56.9105,0,11.8698,0,56.9105,8.0418,0,0,1]).reshape(3, 3) #original tomada del .CAM\n",
    "#d = np.array([8.641e-006, 0.0, 0.0, 0.0, 0.0]).reshape(1, 5) #matriz de distorsion original tomada del .CAM\n"
   ]
  },
  {
   "cell_type": "code",
   "execution_count": 173,
   "metadata": {
    "collapsed": false
   },
   "outputs": [],
   "source": [
    "#ruta = \"img/candela/ZCH0001/\"\n",
    "#ruta = \"img/candela/ZCH0131/\"\n",
    "ruta = \"img/monumento/\"\n",
    "lstFiles = []\n",
    "lstDir = os.walk(ruta)\n",
    "for root, dirs, files in lstDir:\n",
    "    for fichero in files:\n",
    "        (nombreFichero, extension) = os.path.splitext(fichero)\n",
    "        if(extension == \".png\" or extension == \".JPG\"):\n",
    "            img = cv2.imread(ruta+nombreFichero+extension,cv2.CV_8UC3)\n",
    "            #img = cv2.imread(ruta+nombreFichero+extension,1)\n",
    "            if len(img1.shape) == 2:\n",
    "                img = cv2.cvtColor(img, cv2.COLOR_GRAY2BGR)\n",
    "            #img = cv2.resize(img,(0,0),fx=0.5, fy=0.5)\n",
    "            lstFiles.append(img)\n",
    "            #print (nombreFichero+extension)"
   ]
  },
  {
   "cell_type": "code",
   "execution_count": 174,
   "metadata": {
    "collapsed": false
   },
   "outputs": [],
   "source": [
    "img1 = lstFiles[1]\n",
    "img2 = lstFiles[0]\n",
    "\n",
    "#redimencion\n",
    "if img1.shape[1] > 600:\n",
    "    while img1.shape[1] > 2*600:\n",
    "        img1 = cv2.pyrDown(img1)\n",
    "        img2 = cv2.pyrDown(img2)\n",
    "\n",
    "img1 = cv2.undistort(img1, K, d)\n",
    "img2 = cv2.undistort(img2, K, d)\n",
    "\n",
    "#plot.imshow(img2)\n",
    "#plot.show()"
   ]
  },
  {
   "cell_type": "code",
   "execution_count": 175,
   "metadata": {
    "collapsed": false,
    "scrolled": true
   },
   "outputs": [],
   "source": [
    "#ORB\n",
    "\n",
    "#orb = cv2.ORB_create(1000)\n",
    "#first_key_points, first_desc = orb.detectAndCompute(img1,None)\n",
    "#second_key_points, second_desc = orb.detectAndCompute(img2,None)\n",
    "\n",
    "orb = cv2.SURF(250)\n",
    "first_key_points, first_desc = orb.detectAndCompute(img1,None)\n",
    "second_key_points, second_desc = orb.detectAndCompute(img2,None)\n",
    "\n",
    "# match descriptors\n",
    "matcher = cv2.BFMatcher(cv2.NORM_L1, True)\n",
    "matches = matcher.match(first_desc, second_desc)\n",
    "\n",
    "# generate lists of point correspondences\n",
    "first_match_points = np.zeros((len(matches), 2), dtype=np.float32)\n",
    "second_match_points = np.zeros_like(first_match_points)\n",
    "\n",
    "for i in range(len(matches)):\n",
    "    first_match_points[i] = first_key_points[matches[i].queryIdx].pt\n",
    "    second_match_points[i] = second_key_points[matches[i].trainIdx].pt\n",
    "    "
   ]
  },
  {
   "cell_type": "code",
   "execution_count": 176,
   "metadata": {
    "collapsed": false
   },
   "outputs": [],
   "source": [
    "#matches = sorted(matches, key = lambda x:x.distance)\n",
    "#img4 = cv2.drawMatches(img1,first_key_points,img2,second_key_points,matches,None)\n",
    "#plot.imshow(img4)\n"
   ]
  },
  {
   "cell_type": "code",
   "execution_count": 177,
   "metadata": {
    "collapsed": false
   },
   "outputs": [
    {
     "data": {
      "text/plain": [
       "(695, 2)"
      ]
     },
     "execution_count": 177,
     "metadata": {},
     "output_type": "execute_result"
    }
   ],
   "source": [
    "first_match_points.shape"
   ]
  },
  {
   "cell_type": "code",
   "execution_count": 178,
   "metadata": {
    "collapsed": false
   },
   "outputs": [],
   "source": [
    "#matriz fundamental\n",
    "retval,mask=cv2.findFundamentalMat(first_match_points,second_match_points,cv2.FM_RANSAC, 0.1, 0.99)\n",
    "#Matriz esencial\n",
    "E = K.T.dot(retval).dot(K)"
   ]
  },
  {
   "cell_type": "code",
   "execution_count": 179,
   "metadata": {
    "collapsed": false
   },
   "outputs": [],
   "source": [
    "#funcion que permite determinar si lo puntos se encuentra frente a la camara o no\n",
    "def _in_front_of_both_cameras(first_points, second_points, rot, trans):\n",
    "    rot_inv = rot\n",
    "    for first, second in zip(first_points, second_points):\n",
    "        first_z = np.dot(rot[0, :] - second[0]*rot[2, :],trans) / np.dot(rot[0, :] - second[0]*rot[2, :],second)\n",
    "        first_3d_point = np.array([first[0] * first_z,second[0] * first_z, first_z])\n",
    "        second_3d_point = np.dot(rot.T, first_3d_point) - np.dot(rot.T,trans)\n",
    "        if first_3d_point[2] < 0 or second_3d_point[2] < 0:\n",
    "            return False\n",
    "    return True"
   ]
  },
  {
   "cell_type": "code",
   "execution_count": 180,
   "metadata": {
    "collapsed": false
   },
   "outputs": [],
   "source": [
    "#procedimiento dudoso\n",
    "\n",
    "first_inliers = []\n",
    "second_inliers = []\n",
    "for i in range(len(mask)):\n",
    "    if mask[i]:\n",
    "        # normalize and homogenize the image coordinates\n",
    "        first_inliers.append(np.linalg.inv(K).dot([first_match_points[i][0],first_match_points[i][1], 1.0]))\n",
    "        second_inliers.append( np.linalg.inv(K).dot([second_match_points[i][0],second_match_points[i][1], 1.0]))\n",
    "\n",
    "U,s,V= np.linalg.svd(E,full_matrices=False)\n",
    "W = np.array([0.0, -1.0, 0.0, 1.0, 0.0, 0.0, 0.0, 0.0,1.0]).reshape(3, 3)\n",
    "R = U.dot(W).dot(V) # U*W*V.T --> otra biblografia\n",
    "T = U[:,2]\n",
    "\n",
    "\n",
    "if not _in_front_of_both_cameras(first_inliers,second_inliers,R, T):\n",
    "    # Second choice: R = U * W * Vt, T = -u_3\n",
    "    T = - U[:, 2]\n",
    "if not _in_front_of_both_cameras(first_inliers,second_inliers,R, T):\n",
    "    # Third choice: R = U * Wt * Vt, T = u_3\n",
    "    R = U.dot(W.T).dot(V)\n",
    "    T = U[:, 2]\n",
    "    if not _in_front_of_both_cameras(first_inliers,second_inliers, R, T):\n",
    "        # Fourth choice: R = U * Wt * Vt, T = -u_3\n",
    "        T = - U[:, 2]\n",
    "        \n",
    "first_inliers = np.array(first_inliers)\n",
    "second_inliers = np.array(second_inliers)\n"
   ]
  },
  {
   "cell_type": "code",
   "execution_count": 181,
   "metadata": {
    "collapsed": false
   },
   "outputs": [
    {
     "data": {
      "text/plain": [
       "1.0000000000000004"
      ]
     },
     "execution_count": 181,
     "metadata": {},
     "output_type": "execute_result"
    }
   ],
   "source": [
    "#validando matriz de rotacion ---> si el determinante es 1 o -1 todo OK.\n",
    "np.linalg.det(R)"
   ]
  },
  {
   "cell_type": "code",
   "execution_count": 182,
   "metadata": {
    "collapsed": false
   },
   "outputs": [],
   "source": [
    "#P1 =np.array([[1,0,0,0],[0,1,0,0],[0,0,1,0]]) #matriz de camara canonica! manera pro: \n",
    "P1 = np.hstack((np.eye(3), np.zeros((3, 1))))\n",
    "P2 = np.hstack((R, T.reshape(3, 1))) # P2 = [R|T]\n",
    "#P2 = np.array([[R[0][0],R[0][1],R[0][2],T[0]],[R[1][0],R[1][1],R[1][2],T[1]],[R[2][0],R[2][1],R[2][2],T[2]]]) #[R|t]"
   ]
  },
  {
   "cell_type": "code",
   "execution_count": 183,
   "metadata": {
    "collapsed": false
   },
   "outputs": [],
   "source": [
    "first_inliers1 = first_inliers.reshape(-1, 3)[:, :2]\n",
    "second_inliers2 = second_inliers.reshape(-1,3)[:,:2]\n",
    "triangulacion = cv2.triangulatePoints(P1,P2,first_inliers1.T,second_inliers2.T).T"
   ]
  },
  {
   "cell_type": "code",
   "execution_count": 184,
   "metadata": {
    "collapsed": false
   },
   "outputs": [],
   "source": [
    "#triangulacion\n"
   ]
  },
  {
   "cell_type": "code",
   "execution_count": 185,
   "metadata": {
    "collapsed": false
   },
   "outputs": [
    {
     "data": {
      "image/png": "[encoded data removed]",
      "text/plain": [
       "<matplotlib.figure.Figure at 0x7fdc4d2b6110>"
      ]
     },
     "metadata": {},
     "output_type": "display_data"
    }
   ],
   "source": [
    "pts3D = triangulacion[:, :3]/np.repeat(triangulacion[:, 3], 3).reshape(-1, 3)\n",
    "# plot with matplotlib\n",
    "Ys = pts3D[:, 0]\n",
    "Zs = pts3D[:, 1]\n",
    "Xs = pts3D[:, 2]\n",
    "# ------------------------->\n",
    "fig = plot.figure()\n",
    "ax = fig.add_subplot(111, projection='3d')\n",
    "ax.scatter(Xs, Ys, Zs, c='r', marker='o')\n",
    "ax.set_xlabel('Y')\n",
    "ax.set_ylabel('Z')\n",
    "ax.set_zlabel('X')\n",
    "\n",
    "plot.show()\n",
    "# ------------------------->\n",
    "#fig = plot.figure()\n",
    "#ax = fig.add_subplot(111, projection='3d')\n",
    "#ax.plot3D(X, Y, Z)\n",
    "#plot.show()"
   ]
  },
  {
   "cell_type": "code",
   "execution_count": null,
   "metadata": {
    "collapsed": false
   },
   "outputs": [],
   "source": []
  },
  {
   "cell_type": "code",
   "execution_count": 166,
   "metadata": {
    "collapsed": false
   },
   "outputs": [],
   "source": [
    "import pcl"
   ]
  },
  {
   "cell_type": "code",
   "execution_count": 167,
   "metadata": {
    "collapsed": false
   },
   "outputs": [],
   "source": [
    "cloud = pcl.PointCloud(np.array(pts3D, dtype=np.float32))"
   ]
  },
  {
   "cell_type": "code",
   "execution_count": 168,
   "metadata": {
    "collapsed": false
   },
   "outputs": [
    {
     "data": {
      "text/plain": [
       "0"
      ]
     },
     "execution_count": 168,
     "metadata": {},
     "output_type": "execute_result"
    }
   ],
   "source": [
    "cloud._to_pcd_file(\"prueba.pcd\")"
   ]
  },
  {
   "cell_type": "code",
   "execution_count": null,
   "metadata": {
    "collapsed": false
   },
   "outputs": [],
   "source": []
  }
 ],
 "metadata": {
  "kernelspec": {
   "display_name": "Python 2",
   "language": "python",
   "name": "python2"
  },
  "language_info": {
   "codemirror_mode": {
    "name": "ipython",
    "version": 2
   },
   "file_extension": ".py",
   "mimetype": "text/x-python",
   "name": "python",
   "nbconvert_exporter": "python",
   "pygments_lexer": "ipython2",
   "version": "2.7.11"
  }
 },
 "nbformat": 4,
 "nbformat_minor": 0
}
