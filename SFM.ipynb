{
 "cells": [
  {
   "cell_type": "code",
   "execution_count": 1,
   "metadata": {
    "collapsed": true
   },
   "outputs": [],
   "source": [
    "import cv2\n",
    "import matplotlib.pyplot as plot\n",
    "from skimage.feature import (match_descriptors,corner_harris,corner_peaks,ORB,plot_matches,BRIEF)\n",
    "import os\n",
    "import numpy as np\n",
    "from mpl_toolkits.mplot3d import Axes3D\n",
    "import pcl"
   ]
  },
  {
   "cell_type": "code",
   "execution_count": null,
   "metadata": {
    "collapsed": false
   },
   "outputs": [],
   "source": [
    "#%matplotlib inline"
   ]
  },
  {
   "cell_type": "code",
   "execution_count": 2,
   "metadata": {
    "collapsed": false
   },
   "outputs": [],
   "source": [
    "#matriz camara\n",
    "# -----------------------------------------------------------------------> \n",
    "K = np.array([[2759.48/4, 0, 1520.69/4, 0, 2764.16/4,1006.81/4, 0, 0, 1]]).reshape(3, 3)\n",
    "d = np.array([0.0, 0.0, 0.0, 0.0, 0.0]).reshape(1, 5)\n",
    "# ----------------------------------------------------------------------->\n",
    "#K = np.array([56.9105,0,11.8698,0,56.9105,8.0418,0,0,1]).reshape(3, 3) #original tomada del .CAM\n",
    "#d = np.array([8.641e-006, 0.0, 0.0, 0.0, 0.0]).reshape(1, 5) #matriz de distorsion original tomada del .CAM\n",
    "#---------------------------------------------------\n",
    "#ruta = \"img/candela/ZCH0001/\"\n",
    "#ruta = \"img/candela/ZCH0131/\"\n",
    "ruta = \"img/monumento/\""
   ]
  },
  {
   "cell_type": "code",
   "execution_count": null,
   "metadata": {
    "collapsed": false
   },
   "outputs": [],
   "source": []
  },
  {
   "cell_type": "code",
   "execution_count": 3,
   "metadata": {
    "collapsed": false
   },
   "outputs": [],
   "source": [
    "lstFiles = []\n",
    "lstDir = os.walk(ruta)\n",
    "for root, dirs, files in lstDir:\n",
    "    for fichero in files:\n",
    "        (nombreFichero, extension) = os.path.splitext(fichero)\n",
    "        if(extension == \".png\" or extension == \".JPG\"):\n",
    "            img = cv2.imread(ruta+nombreFichero+extension,cv2.CV_8UC3)\n",
    "            #img = cv2.imread(ruta+nombreFichero+extension,1)\n",
    "            if len(img.shape) == 2:\n",
    "                img = cv2.cvtColor(img, cv2.COLOR_GRAY2BGR)\n",
    "            #img = cv2.resize(img,(0,0),fx=0.5, fy=0.5)\n",
    "            lstFiles.append(img)\n",
    "            #print (nombreFichero+extension)"
   ]
  },
  {
   "cell_type": "code",
   "execution_count": 4,
   "metadata": {
    "collapsed": false
   },
   "outputs": [],
   "source": [
    "img1 = lstFiles[0]\n",
    "img2 = lstFiles[1]\n",
    "\n",
    "#redimencion\n",
    "if img1.shape[1] > 600:\n",
    "    while img1.shape[1] > 2*600:\n",
    "        img1 = cv2.pyrDown(img1)\n",
    "        img2 = cv2.pyrDown(img2)\n",
    "\n",
    "img1 = cv2.undistort(img1, K, d)\n",
    "img2 = cv2.undistort(img2, K, d)\n",
    "\n",
    "#plot.imshow(img2)\n",
    "#plot.show()"
   ]
  },
  {
   "cell_type": "code",
   "execution_count": 9,
   "metadata": {
    "collapsed": false,
    "scrolled": true
   },
   "outputs": [],
   "source": [
    "#ORB\n",
    "surf = cv2.SURF()\n",
    "first_key_points, first_desc = surf.detectAndCompute(img1,None)\n",
    "second_key_points, second_desc = surf.detectAndCompute(img2,None)\n",
    "\n",
    "# match descriptors\n",
    "matcher = cv2.BFMatcher(cv2.NORM_L1, True)\n",
    "matches = matcher.match(first_desc, second_desc)\n",
    "\n",
    "# generate lists of point correspondences\n",
    "first_match_points = np.zeros((len(matches), 2), dtype=np.float32)\n",
    "second_match_points = np.zeros_like(first_match_points)\n",
    "\n",
    "for i in range(len(matches)):\n",
    "    if (matches[i].distance < 2):\n",
    "        first_match_points[i] = first_key_points[matches[i].queryIdx].pt\n",
    "        second_match_points[i] = second_key_points[matches[i].trainIdx].pt\n",
    "    "
   ]
  },
  {
   "cell_type": "code",
   "execution_count": 37,
   "metadata": {
    "collapsed": false
   },
   "outputs": [],
   "source": [
    "#matches = sorted(matches, key = lambda x:x.distance)\n",
    "#img4 = cv2.drawMatches(img1,first_key_points,img2,second_key_points,matches,None)\n",
    "#plot.imshow(img4)\n"
   ]
  },
  {
   "cell_type": "code",
   "execution_count": null,
   "metadata": {
    "collapsed": false
   },
   "outputs": [],
   "source": []
  },
  {
   "cell_type": "code",
   "execution_count": 13,
   "metadata": {
    "collapsed": false
   },
   "outputs": [
    {
     "data": {
      "text/plain": [
       "array([[ -1.34065634e-08,   1.21369110e-05,  -3.18495441e-03],\n",
       "       [ -3.98740430e-06,   7.63708768e-07,  -2.77698772e-02],\n",
       "       [  1.02166074e-03,   2.38064332e-02,   1.00000000e+00]])"
      ]
     },
     "execution_count": 13,
     "metadata": {},
     "output_type": "execute_result"
    }
   ],
   "source": [
    "# matriz fundamental\n",
    "retval,mask=cv2.findFundamentalMat(first_match_points,second_match_points,cv2.FM_RANSAC, 0.1, 0.99)\n",
    "#Matriz esencial\n",
    "E = K.T.dot(retval).dot(K)\n",
    "retval"
   ]
  },
  {
   "cell_type": "code",
   "execution_count": 14,
   "metadata": {
    "collapsed": false
   },
   "outputs": [],
   "source": [
    "#funcion que permite determinar si lo puntos se encuentra frente a la camara o no\n",
    "def _in_front_of_both_cameras(first_points, second_points, rot, trans):\n",
    "    rot_inv = rot\n",
    "    for first, second in zip(first_points, second_points):\n",
    "        first_z = np.dot(rot[0, :] - second[0]*rot[2, :],trans) / np.dot(rot[0, :] - second[0]*rot[2, :],second)\n",
    "        first_3d_point = np.array([first[0] * first_z,second[0] * first_z, first_z])\n",
    "        second_3d_point = np.dot(rot.T, first_3d_point) - np.dot(rot.T,trans)\n",
    "        if first_3d_point[2] < 0 or second_3d_point[2] < 0:\n",
    "            return False\n",
    "    return True"
   ]
  },
  {
   "cell_type": "code",
   "execution_count": 15,
   "metadata": {
    "collapsed": false
   },
   "outputs": [
    {
     "name": "stdout",
     "output_type": "stream",
     "text": [
      "entro0\n",
      "entro1\n",
      "entro2\n"
     ]
    }
   ],
   "source": [
    "#procedimiento dudoso\n",
    "\n",
    "first_inliers = []\n",
    "second_inliers = []\n",
    "for i in range(len(mask)):\n",
    "    if mask[i]:\n",
    "        # normalize and homogenize the image coordinates\n",
    "        first_inliers.append(np.linalg.inv(K).dot([first_match_points[i][0],first_match_points[i][1], 1.0]))\n",
    "        second_inliers.append( np.linalg.inv(K).dot([second_match_points[i][0],second_match_points[i][1], 1.0]))\n",
    "\n",
    "U,s,V= np.linalg.svd(E)\n",
    "W = np.array([0.0, -1.0, 0.0, 1.0, 0.0, 0.0, 0.0, 0.0,1.0]).reshape(3, 3)\n",
    "R = U.dot(W).dot(V) # U*W*V.T --> otra biblografia\n",
    "T = U[:,2]\n",
    "\n",
    "\n",
    "if not _in_front_of_both_cameras(first_inliers,second_inliers,R, T):\n",
    "    # Second choice: R = U * W * Vt, T = -u_3\n",
    "    T = - U[:, 2]\n",
    "    print \"entro0\"\n",
    "\n",
    "if not _in_front_of_both_cameras(first_inliers,second_inliers,R, T):\n",
    "    # Third choice: R = U * Wt * Vt, T = u_3\n",
    "    print \"entro1\"\n",
    "    R = U.dot(W.T).dot(V)\n",
    "    T = U[:, 2]\n",
    "    if not _in_front_of_both_cameras(first_inliers,second_inliers, R, T):\n",
    "        # Fourth choice: R = U * Wt * Vt, T = -u_3\n",
    "        print \"entro2\"\n",
    "        T = - U[:, 2]\n",
    "        \n",
    "first_inliers = np.array(first_inliers)\n",
    "second_inliers = np.array(second_inliers)\n",
    "R = U.dot(W.T).dot(V)\n",
    "T = U[:, 2]"
   ]
  },
  {
   "cell_type": "code",
   "execution_count": 16,
   "metadata": {
    "collapsed": false
   },
   "outputs": [
    {
     "data": {
      "text/plain": [
       "(212, 3)"
      ]
     },
     "execution_count": 16,
     "metadata": {},
     "output_type": "execute_result"
    }
   ],
   "source": [
    "#validando matriz de rotacion ---> si el determinante es 1 o -1 todo OK.\n",
    "np.linalg.det(R)\n",
    "first_inliers.shape"
   ]
  },
  {
   "cell_type": "code",
   "execution_count": 17,
   "metadata": {
    "collapsed": false
   },
   "outputs": [],
   "source": [
    "#P1 =np.array([[1,0,0,0],[0,1,0,0],[0,0,1,0]]) #matriz de camara canonica! manera pro: \n",
    "P1 = np.hstack((np.eye(3), np.zeros((3, 1))))\n",
    "P2 = np.hstack((R, T.reshape(3, 1))) # P2 = [R|T]\n",
    "#P2 = np.array([[R[0][0],R[0][1],R[0][2],T[0]],[R[1][0],R[1][1],R[1][2],T[1]],[R[2][0],R[2][1],R[2][2],T[2]]]) #[R|t]"
   ]
  },
  {
   "cell_type": "code",
   "execution_count": 18,
   "metadata": {
    "collapsed": false
   },
   "outputs": [],
   "source": [
    "first_inliers1 = first_inliers.reshape(-1, 3)[:, :2]\n",
    "second_inliers2 = second_inliers.reshape(-1,3)[:,:2]\n",
    "triangulacion = cv2.triangulatePoints(P1,P2,first_inliers1.T,second_inliers2.T).T"
   ]
  },
  {
   "cell_type": "code",
   "execution_count": 19,
   "metadata": {
    "collapsed": false
   },
   "outputs": [],
   "source": [
    "#triangulacion\n",
    "pts3D = triangulacion[:, :3]/np.repeat(triangulacion[:, 3], 3).reshape(-1, 3)"
   ]
  },
  {
   "cell_type": "code",
   "execution_count": 20,
   "metadata": {
    "collapsed": false
   },
   "outputs": [
    {
     "data": {
      "text/plain": [
       "(212, 3)"
      ]
     },
     "execution_count": 20,
     "metadata": {},
     "output_type": "execute_result"
    }
   ],
   "source": [
    "pts3D.shape"
   ]
  },
  {
   "cell_type": "code",
   "execution_count": 21,
   "metadata": {
    "collapsed": false
   },
   "outputs": [],
   "source": [
    "def linearTriangulation(u1, P1, u2, P2):\n",
    "        A = np.array([u1[0]*P1[2, 0] - P1[0, 0], u1[0]*P1[2, 1] - P1[0, 1],\n",
    "                      u1[0]*P1[2, 2] - P1[0, 2], u1[1]*P1[2, 0] - P1[1, 0],\n",
    "                      u1[1]*P1[2, 1] - P1[1, 1], u1[1]*P1[2, 2] - P1[1, 2],\n",
    "                      u2[0]*P2[2, 0] - P2[0, 0], u2[0]*P2[2, 1] - P2[0, 1],\n",
    "                      u2[0]*P2[2, 2] - P2[0, 2], u2[1]*P2[2, 0] - P2[1, 0],\n",
    "                      u2[1]*P2[2, 1] - P2[1, 1],\n",
    "                      u2[1]*P2[2, 2] - P2[1, 2]]).reshape(4, 3)\n",
    "\n",
    "        B = np.array([-(u1[0]*P1[2, 3] - P1[0, 3]),\n",
    "                      -(u1[1]*P1[2, 3] - P1[1, 3]),\n",
    "                      -(u2[0]*P2[2, 3] - P2[0, 3]),\n",
    "                      -(u2[1]*P2[2, 3] - P2[1, 3])]).reshape(4, 1)\n",
    "\n",
    "        ret, X = cv2.solve(A, B, flags=cv2.DECOMP_SVD)\n",
    "        return X.reshape(1, 3)"
   ]
  },
  {
   "cell_type": "code",
   "execution_count": 22,
   "metadata": {
    "collapsed": false
   },
   "outputs": [
    {
     "data": {
      "text/plain": [
       "0"
      ]
     },
     "execution_count": 22,
     "metadata": {},
     "output_type": "execute_result"
    }
   ],
   "source": [
    "unos = np.ones((first_inliers1.shape[0],1))\n",
    "u1 = np.hstack((first_inliers1,unos)) # normalizado a x,y,1\n",
    "u2 = np.hstack((second_inliers2,unos)) # normalizado a x,y,1\n",
    "X  = []\n",
    "for i in range(first_inliers1.shape[0]):\n",
    "    uf =  np.linalg.inv(K) * u1[i]\n",
    "    us = np.linalg.inv(K) * u2[i]\n",
    "    x = linearTriangulation(uf[0],P1,us[0],P2)\n",
    "    X.append(x[0])\n",
    "np.array(X).shape\n",
    "\n",
    "cloud = pcl.PointCloud(np.array(np.concatenate((X,pts3D)), dtype=np.float32))\n",
    "\n",
    "fil = cloud.make_statistical_outlier_filter()\n",
    "fil.set_mean_k (50)\n",
    "fil.set_std_dev_mul_thresh (1.0)\n",
    "fil.filter().to_file(\"prueba.pcd\")"
   ]
  },
  {
   "cell_type": "code",
   "execution_count": 23,
   "metadata": {
    "collapsed": false
   },
   "outputs": [],
   "source": [
    "# plot with matplotlib\n",
    "Ys = pts3D[:, 0]\n",
    "Zs = pts3D[:, 1]\n",
    "Xs = pts3D[:, 2]\n",
    "# ------------------------->\n",
    "fig = plot.figure()\n",
    "ax = fig.add_subplot(111, projection='3d')\n",
    "ax.scatter(Xs, Ys, Zs, c='r', marker='o')\n",
    "ax.set_xlabel('Y')\n",
    "ax.set_ylabel('Z')\n",
    "ax.set_zlabel('X')\n",
    "ax.set_aspect('equal')\n",
    "plot.show()\n"
   ]
  },
  {
   "cell_type": "code",
   "execution_count": null,
   "metadata": {
    "collapsed": false
   },
   "outputs": [],
   "source": []
  },
  {
   "cell_type": "code",
   "execution_count": null,
   "metadata": {
    "collapsed": false
   },
   "outputs": [],
   "source": []
  },
  {
   "cell_type": "code",
   "execution_count": null,
   "metadata": {
    "collapsed": false
   },
   "outputs": [],
   "source": []
  },
  {
   "cell_type": "code",
   "execution_count": null,
   "metadata": {
    "collapsed": false
   },
   "outputs": [],
   "source": []
  }
 ],
 "metadata": {
  "kernelspec": {
   "display_name": "Python 2",
   "language": "python",
   "name": "python2"
  },
  "language_info": {
   "codemirror_mode": {
    "name": "ipython",
    "version": 2
   },
   "file_extension": ".py",
   "mimetype": "text/x-python",
   "name": "python",
   "nbconvert_exporter": "python",
   "pygments_lexer": "ipython2",
   "version": "2.7.11"
  }
 },
 "nbformat": 4,
 "nbformat_minor": 0
}
